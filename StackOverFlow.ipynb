{
 "cells": [
  {
   "cell_type": "markdown",
   "metadata": {},
   "source": [
    "# StackOverFlow "
   ]
  },
  {
   "cell_type": "code",
   "execution_count": 2,
   "metadata": {},
   "outputs": [
    {
     "name": "stdout",
     "output_type": "stream",
     "text": [
      "[nltk_data] Downloading package stopwords to\n",
      "[nltk_data]     C:\\Users\\Gal\\AppData\\Roaming\\nltk_data...\n",
      "[nltk_data]   Package stopwords is already up-to-date!\n"
     ]
    },
    {
     "data": {
      "text/plain": [
       "True"
      ]
     },
     "execution_count": 2,
     "metadata": {},
     "output_type": "execute_result"
    }
   ],
   "source": [
    "# general imports\n",
    "# please make sure you have gensim (if you don't use: pip install gensim)\n",
    "import numpy as np\n",
    "import pandas as pd\n",
    "import networkx as nx\n",
    "import matplotlib.pyplot as plt\n",
    "import pickle\n",
    "import sys\n",
    "import nltk\n",
    "nltk.download('stopwords')"
   ]
  },
  {
   "cell_type": "code",
   "execution_count": 3,
   "metadata": {},
   "outputs": [],
   "source": [
    "# classification imports \n",
    "from sklearn.model_selection import train_test_split\n",
    "from sklearn.ensemble import RandomForestClassifier\n",
    "from sklearn.linear_model import LogisticRegression"
   ]
  },
  {
   "cell_type": "code",
   "execution_count": 4,
   "metadata": {},
   "outputs": [],
   "source": [
    "# Project definition - please change it to your working dir\n",
    "from config import PROJECT_DIR as project_dir"
   ]
  },
  {
   "cell_type": "markdown",
   "metadata": {},
   "source": [
    "## Load data"
   ]
  },
  {
   "cell_type": "code",
   "execution_count": 65,
   "metadata": {},
   "outputs": [],
   "source": [
    "# first we did a basic cleaning for the data (removing NULLs mainly)\n",
    "from clean_data import clean_data\n",
    "\n",
    "clean_data(project_dir + '/data/Answers.csv', project_dir + '/data/Clean_Answers.csv')\n",
    "clean_data(project_dir + '/data/Questions.csv', project_dir + '/data/Clean_Questions.csv')\n",
    "clean_data(project_dir + '/data/Tags.csv', project_dir + '/data/Clean_Tags.csv')\n",
    "\n",
    "ans = pd.read_csv(project_dir + '/data/Clean_Answers.csv')\n",
    "qus = pd.read_csv(project_dir + '/data/Clean_Questions.csv')\n",
    "tags = pd.read_csv(project_dir + '/data/Clean_Tags.csv')"
   ]
  },
  {
   "cell_type": "markdown",
   "metadata": {},
   "source": [
    "##  First Observation on the data"
   ]
  },
  {
   "cell_type": "code",
   "execution_count": 5,
   "metadata": {},
   "outputs": [
    {
     "data": {
      "text/html": [
       "<div>\n",
       "<style scoped>\n",
       "    .dataframe tbody tr th:only-of-type {\n",
       "        vertical-align: middle;\n",
       "    }\n",
       "\n",
       "    .dataframe tbody tr th {\n",
       "        vertical-align: top;\n",
       "    }\n",
       "\n",
       "    .dataframe thead th {\n",
       "        text-align: right;\n",
       "    }\n",
       "</style>\n",
       "<table border=\"1\" class=\"dataframe\">\n",
       "  <thead>\n",
       "    <tr style=\"text-align: right;\">\n",
       "      <th></th>\n",
       "      <th>Id</th>\n",
       "      <th>OwnerUserId</th>\n",
       "      <th>CreationDate</th>\n",
       "      <th>ParentId</th>\n",
       "      <th>Score</th>\n",
       "      <th>IsAcceptedAnswer</th>\n",
       "      <th>Body</th>\n",
       "    </tr>\n",
       "  </thead>\n",
       "  <tbody>\n",
       "    <tr>\n",
       "      <th>0</th>\n",
       "      <td>79741</td>\n",
       "      <td>3259.0</td>\n",
       "      <td>2008-09-17T03:43:22Z</td>\n",
       "      <td>79709</td>\n",
       "      <td>-1</td>\n",
       "      <td>False</td>\n",
       "      <td>&lt;p&gt;It's tough to say definitively without know...</td>\n",
       "    </tr>\n",
       "    <tr>\n",
       "      <th>1</th>\n",
       "      <td>79768</td>\n",
       "      <td>6043.0</td>\n",
       "      <td>2008-09-17T03:48:29Z</td>\n",
       "      <td>79709</td>\n",
       "      <td>9</td>\n",
       "      <td>False</td>\n",
       "      <td>&lt;p&gt;use variables in the outer function instead...</td>\n",
       "    </tr>\n",
       "    <tr>\n",
       "      <th>2</th>\n",
       "      <td>79779</td>\n",
       "      <td>8002.0</td>\n",
       "      <td>2008-09-17T03:49:36Z</td>\n",
       "      <td>79709</td>\n",
       "      <td>0</td>\n",
       "      <td>False</td>\n",
       "      <td>&lt;p&gt;Third approach: inner function returns a re...</td>\n",
       "    </tr>\n",
       "    <tr>\n",
       "      <th>3</th>\n",
       "      <td>79827</td>\n",
       "      <td>14257.0</td>\n",
       "      <td>2008-09-17T03:58:26Z</td>\n",
       "      <td>79709</td>\n",
       "      <td>1</td>\n",
       "      <td>False</td>\n",
       "      <td>&lt;p&gt;I'm not sure I understand the question, but...</td>\n",
       "    </tr>\n",
       "    <tr>\n",
       "      <th>4</th>\n",
       "      <td>79893</td>\n",
       "      <td>14928.0</td>\n",
       "      <td>2008-09-17T04:11:08Z</td>\n",
       "      <td>79709</td>\n",
       "      <td>6</td>\n",
       "      <td>False</td>\n",
       "      <td>&lt;p&gt;Remember your Knuth.  \"Premature optimizati...</td>\n",
       "    </tr>\n",
       "  </tbody>\n",
       "</table>\n",
       "</div>"
      ],
      "text/plain": [
       "      Id  OwnerUserId          CreationDate  ParentId  Score  \\\n",
       "0  79741       3259.0  2008-09-17T03:43:22Z     79709     -1   \n",
       "1  79768       6043.0  2008-09-17T03:48:29Z     79709      9   \n",
       "2  79779       8002.0  2008-09-17T03:49:36Z     79709      0   \n",
       "3  79827      14257.0  2008-09-17T03:58:26Z     79709      1   \n",
       "4  79893      14928.0  2008-09-17T04:11:08Z     79709      6   \n",
       "\n",
       "   IsAcceptedAnswer                                               Body  \n",
       "0             False  <p>It's tough to say definitively without know...  \n",
       "1             False  <p>use variables in the outer function instead...  \n",
       "2             False  <p>Third approach: inner function returns a re...  \n",
       "3             False  <p>I'm not sure I understand the question, but...  \n",
       "4             False  <p>Remember your Knuth.  \"Premature optimizati...  "
      ]
     },
     "execution_count": 5,
     "metadata": {},
     "output_type": "execute_result"
    }
   ],
   "source": [
    "ans.head(5)"
   ]
  },
  {
   "cell_type": "code",
   "execution_count": 6,
   "metadata": {},
   "outputs": [
    {
     "data": {
      "text/html": [
       "<div>\n",
       "<style scoped>\n",
       "    .dataframe tbody tr th:only-of-type {\n",
       "        vertical-align: middle;\n",
       "    }\n",
       "\n",
       "    .dataframe tbody tr th {\n",
       "        vertical-align: top;\n",
       "    }\n",
       "\n",
       "    .dataframe thead th {\n",
       "        text-align: right;\n",
       "    }\n",
       "</style>\n",
       "<table border=\"1\" class=\"dataframe\">\n",
       "  <thead>\n",
       "    <tr style=\"text-align: right;\">\n",
       "      <th></th>\n",
       "      <th>Id</th>\n",
       "      <th>OwnerUserId</th>\n",
       "      <th>CreationDate</th>\n",
       "      <th>Score</th>\n",
       "      <th>Title</th>\n",
       "      <th>Body</th>\n",
       "    </tr>\n",
       "  </thead>\n",
       "  <tbody>\n",
       "    <tr>\n",
       "      <th>0</th>\n",
       "      <td>77434</td>\n",
       "      <td>14008.0</td>\n",
       "      <td>2008-09-16T21:40:29Z</td>\n",
       "      <td>171</td>\n",
       "      <td>How to access the last value in a vector?</td>\n",
       "      <td>&lt;p&gt;Suppose I have a vector that is nested in a...</td>\n",
       "    </tr>\n",
       "    <tr>\n",
       "      <th>1</th>\n",
       "      <td>95007</td>\n",
       "      <td>15842.0</td>\n",
       "      <td>2008-09-18T17:59:19Z</td>\n",
       "      <td>56</td>\n",
       "      <td>Explain the quantile() function in R</td>\n",
       "      <td>&lt;p&gt;I've been mystified by the R quantile funct...</td>\n",
       "    </tr>\n",
       "    <tr>\n",
       "      <th>2</th>\n",
       "      <td>255697</td>\n",
       "      <td>1941213.0</td>\n",
       "      <td>2008-11-01T15:48:30Z</td>\n",
       "      <td>4</td>\n",
       "      <td>Is there an R package for learning a Dirichlet...</td>\n",
       "      <td>&lt;p&gt;I'm looking for a an &lt;code&gt;R&lt;/code&gt; package...</td>\n",
       "    </tr>\n",
       "    <tr>\n",
       "      <th>3</th>\n",
       "      <td>359438</td>\n",
       "      <td>2173.0</td>\n",
       "      <td>2008-12-11T14:02:06Z</td>\n",
       "      <td>4</td>\n",
       "      <td>Optimization packages for R</td>\n",
       "      <td>&lt;p&gt;Does anyone know of any optimization packag...</td>\n",
       "    </tr>\n",
       "    <tr>\n",
       "      <th>4</th>\n",
       "      <td>439526</td>\n",
       "      <td>37751.0</td>\n",
       "      <td>2009-01-13T15:58:48Z</td>\n",
       "      <td>23</td>\n",
       "      <td>Thinking in Vectors with R</td>\n",
       "      <td>&lt;p&gt;I know that R works most efficiently with v...</td>\n",
       "    </tr>\n",
       "  </tbody>\n",
       "</table>\n",
       "</div>"
      ],
      "text/plain": [
       "       Id  OwnerUserId          CreationDate  Score  \\\n",
       "0   77434      14008.0  2008-09-16T21:40:29Z    171   \n",
       "1   95007      15842.0  2008-09-18T17:59:19Z     56   \n",
       "2  255697    1941213.0  2008-11-01T15:48:30Z      4   \n",
       "3  359438       2173.0  2008-12-11T14:02:06Z      4   \n",
       "4  439526      37751.0  2009-01-13T15:58:48Z     23   \n",
       "\n",
       "                                               Title  \\\n",
       "0          How to access the last value in a vector?   \n",
       "1               Explain the quantile() function in R   \n",
       "2  Is there an R package for learning a Dirichlet...   \n",
       "3                        Optimization packages for R   \n",
       "4                         Thinking in Vectors with R   \n",
       "\n",
       "                                                Body  \n",
       "0  <p>Suppose I have a vector that is nested in a...  \n",
       "1  <p>I've been mystified by the R quantile funct...  \n",
       "2  <p>I'm looking for a an <code>R</code> package...  \n",
       "3  <p>Does anyone know of any optimization packag...  \n",
       "4  <p>I know that R works most efficiently with v...  "
      ]
     },
     "execution_count": 6,
     "metadata": {},
     "output_type": "execute_result"
    }
   ],
   "source": [
    "qus.head(5)"
   ]
  },
  {
   "cell_type": "code",
   "execution_count": 7,
   "metadata": {},
   "outputs": [
    {
     "data": {
      "text/html": [
       "<div>\n",
       "<style scoped>\n",
       "    .dataframe tbody tr th:only-of-type {\n",
       "        vertical-align: middle;\n",
       "    }\n",
       "\n",
       "    .dataframe tbody tr th {\n",
       "        vertical-align: top;\n",
       "    }\n",
       "\n",
       "    .dataframe thead th {\n",
       "        text-align: right;\n",
       "    }\n",
       "</style>\n",
       "<table border=\"1\" class=\"dataframe\">\n",
       "  <thead>\n",
       "    <tr style=\"text-align: right;\">\n",
       "      <th></th>\n",
       "      <th>Id</th>\n",
       "      <th>Tag</th>\n",
       "    </tr>\n",
       "  </thead>\n",
       "  <tbody>\n",
       "    <tr>\n",
       "      <th>0</th>\n",
       "      <td>77434</td>\n",
       "      <td>vector</td>\n",
       "    </tr>\n",
       "    <tr>\n",
       "      <th>1</th>\n",
       "      <td>79709</td>\n",
       "      <td>memory</td>\n",
       "    </tr>\n",
       "    <tr>\n",
       "      <th>2</th>\n",
       "      <td>79709</td>\n",
       "      <td>function</td>\n",
       "    </tr>\n",
       "    <tr>\n",
       "      <th>3</th>\n",
       "      <td>79709</td>\n",
       "      <td>global-variables</td>\n",
       "    </tr>\n",
       "    <tr>\n",
       "      <th>4</th>\n",
       "      <td>79709</td>\n",
       "      <td>side-effects</td>\n",
       "    </tr>\n",
       "  </tbody>\n",
       "</table>\n",
       "</div>"
      ],
      "text/plain": [
       "      Id               Tag\n",
       "0  77434            vector\n",
       "1  79709            memory\n",
       "2  79709          function\n",
       "3  79709  global-variables\n",
       "4  79709      side-effects"
      ]
     },
     "execution_count": 7,
     "metadata": {},
     "output_type": "execute_result"
    }
   ],
   "source": [
    "tags.head(5)"
   ]
  },
  {
   "cell_type": "code",
   "execution_count": null,
   "metadata": {},
   "outputs": [],
   "source": [
    "# The two next cells were not originally here - the main function creates all the features after we tuned their parametes\n",
    "# The cell after it load the dataframes.Running the main might take several hours, so it better load the 2 dataframes. It's in\n",
    "# early stage in the notebook because it can save you some time later... \n",
    "import main\n",
    "main.main()"
   ]
  },
  {
   "cell_type": "code",
   "execution_count": 17,
   "metadata": {},
   "outputs": [],
   "source": [
    "# loading dataframes\n",
    "train_df = pd.read_csv(project_dir + '/train_with_tag_clusters_and_user_scores.csv')\n",
    "test_df = pd.read_csv(project_dir + '/test_with_tag_clusters_and_user_scores.csv')"
   ]
  },
  {
   "cell_type": "markdown",
   "metadata": {},
   "source": [
    "## Some basic feature analysis"
   ]
  },
  {
   "cell_type": "code",
   "execution_count": 78,
   "metadata": {},
   "outputs": [
    {
     "data": {
      "image/png": "[encoded data removed]",
      "text/plain": [
       "<Figure size 432x288 with 1 Axes>"
      ]
     },
     "metadata": {},
     "output_type": "display_data"
    }
   ],
   "source": [
    "# Score of answer seems to be a very strong feature for example - most of answers with score 0 was rejected\n",
    "train_df = pd.read_csv(project_dir + '/train_with_tag_clusters_and_user_scores.csv')\n",
    "acc_df = train_df[train_df['IsAcceptedAnswer'] == True]\n",
    "rej_df = train_df[train_df['IsAcceptedAnswer'] == False]\n",
    "\n",
    "bins = np.linspace(-10, 100, 50)\n",
    "width = 0.7 * (bins[1] - bins[0])\n",
    "\n",
    "plt.hist([x for x in acc_df['Score_ans'] if x < 100], bins, alpha = 0.5, width=width, color='blue', label = 'acc')\n",
    "plt.hist([x for x in rej_df['Score_ans'] if x < 100], bins, alpha = 0.5, width=width, color='salmon', label = 'rej')\n",
    "plt.legend(loc ='upper right')\n",
    "plt.show()"
   ]
  },
  {
   "cell_type": "code",
   "execution_count": 79,
   "metadata": {},
   "outputs": [
    {
     "data": {
      "image/png": "[encoded data removed]",
      "text/plain": [
       "<Figure size 432x288 with 1 Axes>"
      ]
     },
     "metadata": {},
     "output_type": "display_data"
    }
   ],
   "source": [
    "# question score - weaker feature\n",
    "bins = np.linspace(-10, 100, 50)\n",
    "width = 0.7 * (bins[1] - bins[0])\n",
    "\n",
    "plt.hist([x for x in acc_df['Score_qus'] if x < 100], bins, alpha = 0.5, width=width, color='blue', label = 'acc')\n",
    "plt.hist([x for x in rej_df['Score_qus'] if x < 100], bins, alpha = 0.5, width=width, color='salmon', label = 'rej')\n",
    "plt.legend(loc ='upper right')\n",
    "plt.show()"
   ]
  },
  {
   "cell_type": "markdown",
   "metadata": {},
   "source": [
    "## Creating users list and graph"
   ]
  },
  {
   "cell_type": "code",
   "execution_count": 18,
   "metadata": {},
   "outputs": [],
   "source": [
    "# This is also might take a time ~ 2 hours\n",
    "from create_user_profile import *\n",
    "users = list_of_users(train_df)\n",
    "users.create_user_graph()\n",
    "users.set_node_properties()\n",
    "users.set_user_scores(train_df)"
   ]
  },
  {
   "cell_type": "code",
   "execution_count": 19,
   "metadata": {},
   "outputs": [],
   "source": [
    "#generating and saving the objects - user's features are in different module\n",
    "user_df = users.generate_data_frame(project_dir + \"\\user_dataframe.csv\")\n",
    "users.save_obj(project_dir + \"\\user_list.pkl\")"
   ]
  },
  {
   "cell_type": "markdown",
   "metadata": {},
   "source": [
    "## User's graph analysis"
   ]
  },
  {
   "cell_type": "code",
   "execution_count": 21,
   "metadata": {},
   "outputs": [],
   "source": [
    "G = list_of_users.load_obj(project_dir + '\\user_list.pkl')"
   ]
  },
  {
   "cell_type": "markdown",
   "metadata": {},
   "source": [
    "#### devide to sub graphs and some details of the graph"
   ]
  },
  {
   "cell_type": "code",
   "execution_count": 22,
   "metadata": {},
   "outputs": [
    {
     "name": "stdout",
     "output_type": "stream",
     "text": [
      "2425 157144 53956\n"
     ]
    }
   ],
   "source": [
    "sub_graphs = list(nx.weakly_connected_component_subgraphs(G.graph))"
   ]
  },
  {
   "cell_type": "markdown",
   "metadata": {},
   "source": [
    "#### Largest components - most of the users are connected in the same component"
   ]
  },
  {
   "cell_type": "code",
   "execution_count": 23,
   "metadata": {},
   "outputs": [
    {
     "data": {
      "text/plain": [
       "[5, 5, 5, 5, 5, 5, 6, 6, 8, 50018]"
      ]
     },
     "execution_count": 23,
     "metadata": {},
     "output_type": "execute_result"
    }
   ],
   "source": [
    "# There is a one big ginat component and many other small components\n",
    "sorted([len(x) for x in sub_graphs])[-10:]"
   ]
  },
  {
   "cell_type": "markdown",
   "metadata": {},
   "source": [
    "## User's Features testing"
   ]
  },
  {
   "cell_type": "code",
   "execution_count": 87,
   "metadata": {},
   "outputs": [
    {
     "data": {
      "image/png": "[encoded data removed]",
      "text/plain": [
       "<Figure size 432x288 with 1 Axes>"
      ]
     },
     "metadata": {},
     "output_type": "display_data"
    }
   ],
   "source": [
    "# rejected users are mostly not 'popular' - whiche means other people don't answer them often (the 0 column shows that)\n",
    "bins = np.linspace(0, 0.002, 100)\n",
    "width = 0.7 * (bins[1] - bins[0])\n",
    "\n",
    "plt.hist([x for x in acc_df['in_degree_user'] if x < 0.002], bins, alpha = 0.5, width=width, color='blue', label = 'acc')\n",
    "plt.hist([x for x in rej_df['in_degree_user'] if x < 0.002], bins, alpha = 0.5, width=width, color='salmon', label = 'rej')\n",
    "plt.legend(loc ='upper right')\n",
    "plt.show()\n",
    "\n"
   ]
  },
  {
   "cell_type": "code",
   "execution_count": 88,
   "metadata": {},
   "outputs": [
    {
     "data": {
      "image/png": "[encoded data removed]",
      "text/plain": [
       "<Figure size 432x288 with 1 Axes>"
      ]
     },
     "metadata": {},
     "output_type": "display_data"
    }
   ],
   "source": [
    "# and also, rejected question are also of users that don't reply to other users on questions\n",
    "bins = np.linspace(0, 0.002, 100)\n",
    "width = 0.7 * (bins[1] - bins[0])\n",
    "\n",
    "plt.hist([x for x in acc_df['out_degree_user'] if x < 0.002], bins, alpha = 0.5, width=width, color='blue', label = 'acc')\n",
    "plt.hist([x for x in rej_df['out_degree_user'] if x < 0.002], bins, alpha = 0.5, width=width, color='salmon', label = 'rej')\n",
    "plt.legend(loc ='upper right')\n",
    "plt.show()"
   ]
  },
  {
   "cell_type": "code",
   "execution_count": 93,
   "metadata": {},
   "outputs": [
    {
     "data": {
      "image/png": "[encoded data removed]",
      "text/plain": [
       "<Figure size 432x288 with 1 Axes>"
      ]
     },
     "metadata": {},
     "output_type": "display_data"
    }
   ],
   "source": [
    "# and also, rejected question are also of users that don't reply to other users on questions\n",
    "bins = np.linspace(0, 0.0002, 100)\n",
    "width = 0.7 * (bins[1] - bins[0])\n",
    "\n",
    "plt.hist([x for x in acc_df['closeness_centrality_user'] ], bins, alpha = 0.5, width=width, color='blue', label = 'acc')\n",
    "plt.hist([x for x in rej_df['closeness_centrality_user'] ], bins, alpha = 0.5, width=width, color='salmon', label = 'rej')\n",
    "plt.legend(loc ='upper right')\n",
    "plt.show()"
   ]
  },
  {
   "cell_type": "markdown",
   "metadata": {},
   "source": [
    "## NLP FEATURES"
   ]
  },
  {
   "cell_type": "markdown",
   "metadata": {},
   "source": [
    "#### cleaning data"
   ]
  },
  {
   "cell_type": "code",
   "execution_count": 3,
   "metadata": {},
   "outputs": [
    {
     "name": "stdout",
     "output_type": "stream",
     "text": [
      "set([u'all', u'just', u'being', u'over', u'both', u'through', u'yourselves', u'its', u'before', u'o', u'hadn', u'herself', u'll', u'had', u'should', u'to', u'only', u'won', u'under', u'ours', u'has', u'do', u'them', u'his', u'very', u'they', u'not', u'during', u'now', u'him', u'nor', u'd', u'did', u'didn', u'this', u'she', u'each', u'further', u'where', u'few', u'because', u'doing', u'some', u'hasn', u'are', u'our', u'ourselves', u'out', u'what', u'for', u'while', u're', u'does', u'above', u'between', u'mustn', u't', u'be', u'we', u'who', u'were', u'here', u'shouldn', u'hers', u'by', u'on', u'about', u'couldn', u'of', u'against', u's', u'isn', u'or', u'own', u'into', u'yourself', u'down', u'mightn', u'wasn', u'your', u'from', u'her', u'their', u'aren', u'there', u'been', u'whom', u'too', u'wouldn', u'themselves', u'weren', u'was', u'until', u'more', u'himself', u'that', u'but', u'don', u'with', u'than', u'those', u'he', u'me', u'myself', u'ma', u'these', u'up', u'will', u'below', u'ain', u'can', u'theirs', u'my', u'and', u've', u'then', u'is', u'am', u'it', u'doesn', u'an', u'as', u'itself', u'at', u'have', u'in', u'any', u'if', u'again', u'no', u'when', u'same', u'how', u'other', u'which', u'you', u'shan', u'needn', u'haven', u'after', u'most', u'such', u'why', u'a', u'off', u'i', u'm', u'yours', u'so', u'y', u'the', u'having', u'once'])\n"
     ]
    }
   ],
   "source": [
    "# removing stop words - in the module we clean also words related to the structure of the post\n",
    "import nltk\n",
    "from nltk.corpus import stopwords\n",
    "stopWords = set(stopwords.words('english'))\n",
    "print stopWords"
   ]
  },
  {
   "cell_type": "code",
   "execution_count": 1,
   "metadata": {},
   "outputs": [
    {
     "name": "stderr",
     "output_type": "stream",
     "text": [
      "C:\\Users\\Gal\\Anaconda2\\lib\\site-packages\\gensim\\utils.py:1209: UserWarning: detected Windows; aliasing chunkize to chunkize_serial\n",
      "  warnings.warn(\"detected Windows; aliasing chunkize to chunkize_serial\")\n"
     ]
    }
   ],
   "source": [
    "import gensim\n",
    "Lda = gensim.models.ldamodel.LdaModel\n",
    "from gensim import corpora"
   ]
  },
  {
   "cell_type": "code",
   "execution_count": 9,
   "metadata": {},
   "outputs": [
    {
     "name": "stdout",
     "output_type": "stream",
     "text": [
      "building a model for questions\n",
      "building a model for answers\n"
     ]
    }
   ],
   "source": [
    "# this how to generate topics for questions and answers - also it might take a while... It's better see the relevant module\n",
    "from nlp_features import *\n",
    "train_df = pd.read_csv(project_dir + '/train_with_tag_clusters_and_user_scores.csv')\n",
    "q_docs = train_df['clean_qus']\n",
    "a_docs = train_df['clean_ans']\n",
    "\n",
    "q_docs = [x.split(\" \") for x in q_docs if type(x)!=float]\n",
    "a_docs = [x.split(\" \") for x in a_docs if type(x)!=float]\n",
    "\n",
    "q_dictionary = corpora.Dictionary(q_docs)\n",
    "q_doc_term_matrix = [q_dictionary.doc2bow(doc) for doc in q_docs]\n",
    "\n",
    "a_dictionary = corpora.Dictionary(a_docs)\n",
    "a_doc_term_matrix = [a_dictionary.doc2bow(doc) for doc in a_docs]\n",
    "\n",
    "Lda = gensim.models.ldamodel.LdaModel\n",
    "\n",
    "print \"building a model for questions\"\n",
    "q_ldamodel = Lda(q_doc_term_matrix, num_topics=10, id2word=q_dictionary, passes=50)\n",
    "q_ldamodel.save(\"my_lda_model_qus_10_topics\")\n",
    "\n",
    "print \"building a model for answers\"\n",
    "a_ldamodel = Lda(a_doc_term_matrix, num_topics=10, id2word=a_dictionary, passes=50)\n",
    "a_ldamodel.save(\"my_lda_model_ans_10_topics\")"
   ]
  },
  {
   "cell_type": "markdown",
   "metadata": {},
   "source": [
    "#### veryfining that topics make sense"
   ]
  },
  {
   "cell_type": "code",
   "execution_count": 12,
   "metadata": {},
   "outputs": [
    {
     "name": "stdout",
     "output_type": "stream",
     "text": [
      "(0, u'0.017*\"~\" + 0.014*\"number\" + 0.014*\"matrix\" + 0.014*\"data\" + 0.011*\"time\" + 0.011*\"values\" + 0.010*\"vector\" + 0.010*\"model\" + 0.010*\"value\" + 0.008*\"element\" + 0.008*\"length\" + 0.006*\"first\" + 0.005*\"test\" + 0.005*\"calculate\" + 0.005*\"two\" + 0.005*\"random\" + 0.005*\"mean\" + 0.005*\"returns\" + 0.005*\"function\" + 0.005*\"/\"')\n",
      "(1, u'0.103*\"1\" + 0.098*\"2\" + 0.072*\"3\" + 0.062*\"na\" + 0.053*\"4\" + 0.041*\"5\" + 0.033*\"b\" + 0.031*\"6\" + 0.021*\"7\" + 0.021*\"8\" + 0.020*\"c\" + 0.018*\"10\" + 0.016*\"9\" + 0.010*\"x\" + 0.010*\"$\" + 0.010*\"12\" + 0.009*\"11\" + 0.007*\"id\" + 0.007*\"13\" + 0.006*\"15\"')\n",
      "(2, u'0.042*\"image\" + 0.041*\"description\" + 0.035*\"*\" + 0.023*\"plot\" + 0.021*\"x\" + 0.014*\"color\" + 0.012*\"size\" + 0.012*\"fill\" + 0.011*\"labels\" + 0.010*\"add\" + 0.010*\"max\" + 0.010*\"/\" + 0.010*\"mean\" + 0.010*\"col\" + 0.009*\"label\" + 0.008*\"min\" + 0.008*\"p\" + 0.008*\"width\" + 0.007*\"points\" + 0.007*\"use\"')\n",
      "(3, u'0.019*\"function\" + 0.019*\"use\" + 0.012*\"like\" + 0.012*\"would\" + 0.011*\"want\" + 0.010*\"need\" + 0.010*\"code\" + 0.010*\"false\" + 0.010*\"using\" + 0.008*\"true\" + 0.008*\"one\" + 0.008*\"also\" + 0.007*\"could\" + 0.007*\"see\" + 0.007*\"r\" + 0.007*\"don\\'t\" + 0.006*\"way\" + 0.006*\"it\\'s\" + 0.006*\"get\" + 0.006*\"think\"')\n",
      "(4, u'0.008*\"33\" + 0.007*\"col1\" + 0.006*\"col2\" + 0.006*\"setosa\" + 0.004*\"perl\" + 0.004*\"class\" + 0.003*\"species\" + 0.003*\"markdown\" + 0.003*\"150\" + 0.003*\"[\" + 0.003*\"spark\" + 0.003*\"lty\" + 0.003*\"col3\" + 0.002*\"state\" + 0.002*\"elispot\" + 0.002*\"offset\" + 0.002*\"ordering\" + 0.002*\"76\" + 0.002*\"date\" + 0.002*\"docs\"')\n",
      "(5, u'0.341*\"0\" + 0.212*\"1\" + 0.009*\"100\" + 0.005*\"2\" + 0.005*\"00\" + 0.005*\"200\" + 0.004*\"2010\" + 0.004*\"110\" + 0.004*\"john\" + 0.004*\"101\" + 0.003*\"wt\" + 0.003*\"vs\" + 0.003*\"disp\" + 0.003*\"300\" + 0.002*\"hp\" + 0.002*\"rx4\" + 0.002*\"box1\" + 0.002*\"var2\" + 0.002*\"102\" + 0.002*\"var1\"')\n",
      "(6, u'0.043*\"data\" + 0.032*\"use\" + 0.025*\"column\" + 0.017*\"using\" + 0.015*\"create\" + 0.014*\"columns\" + 0.013*\"first\" + 0.013*\"get\" + 0.011*\"row\" + 0.011*\"want\" + 0.011*\"rows\" + 0.011*\"list\" + 0.011*\"values\" + 0.010*\"frame\" + 0.010*\"convert\" + 0.009*\"names\" + 0.009*\"need\" + 0.009*\"one\" + 0.009*\"new\" + 0.009*\"date\"')\n",
      "(7, u'0.063*\"[1]\" + 0.017*\"string\" + 0.013*\"match\" + 0.012*\"pattern\" + 0.011*\"collapse\" + 0.010*\"x1\" + 0.010*\"start\" + 0.009*\"end\" + 0.009*\"x2\" + 0.009*\"regex\" + 0.009*\"characters\" + 0.008*\"character\" + 0.008*\"matches\" + 0.007*\"2000\" + 0.007*\"followed\" + 0.007*\"return\" + 0.006*\"text\" + 0.006*\"use\" + 0.006*\"replace\" + 0.006*\"double\"')\n",
      "(8, u'0.029*\"r\" + 0.024*\"file\" + 0.017*\"package\" + 0.012*\"version\" + 0.010*\"using\" + 0.010*\"server\" + 0.009*\"code\" + 0.008*\"files\" + 0.007*\"install\" + 0.006*\"use\" + 0.006*\"run\" + 0.006*\"read\" + 0.006*\"packages\" + 0.005*\"following\" + 0.005*\"command\" + 0.005*\"load\" + 0.005*\"text\" + 0.005*\"working\" + 0.005*\"path\" + 0.005*\"need\"')\n",
      "(9, u'0.183*\"#\" + 0.020*\"else\" + 0.017*\"##\" + 0.013*\"n\" + 0.010*\"user\" + 0.009*\"sep\" + 0.008*\"ncol\" + 0.007*\"yes\" + 0.007*\"var\" + 0.007*\"title\" + 0.007*\"pieces\" + 0.006*\"x\" + 0.006*\"system\" + 0.006*\"nrow\" + 0.005*\"elapsed\" + 0.005*\"dt\" + 0.004*\"res\" + 0.004*\"2012\" + 0.004*\"df\" + 0.004*\"55\"')\n"
     ]
    }
   ],
   "source": [
    "for x in a_ldamodel.print_topics(num_topics=10, num_words=20):\n",
    "    print x"
   ]
  },
  {
   "cell_type": "code",
   "execution_count": 14,
   "metadata": {},
   "outputs": [
    {
     "name": "stdout",
     "output_type": "stream",
     "text": [
      "[(3, 0.70084924), (8, 0.28314927)]\n",
      "[(0, 0.39112002), (1, 0.025), (2, 0.02500137), (3, 0.40887052), (4, 0.025), (5, 0.025), (6, 0.025002552), (7, 0.025), (8, 0.025005588), (9, 0.025)]\n",
      "[(0, 0.12699741), (2, 0.22358847), (3, 0.49486497), (7, 0.10000015)]\n",
      "[(0, 0.21933755), (3, 0.38200584), (8, 0.3448088)]\n",
      "[(1, 0.40886503), (7, 0.4306464), (8, 0.12714858)]\n",
      "[(0, 0.17579961), (1, 0.49311706), (2, 0.045494415), (3, 0.25570112), (5, 0.020795628)]\n",
      "[(0, 0.18219188), (1, 0.014285768), (2, 0.014286166), (3, 0.7035199), (4, 0.014285714), (5, 0.014285714), (6, 0.014286555), (7, 0.014285775), (8, 0.014286356), (9, 0.014286191)]\n",
      "[(0, 0.07689339), (3, 0.54721534), (4, 0.061111346), (8, 0.28143942)]\n",
      "[(3, 0.6876724), (6, 0.2395936)]\n",
      "[(3, 0.8194172), (8, 0.1570521)]\n"
     ]
    }
   ],
   "source": [
    "for i in range(10):\n",
    "    bow = a_dictionary.doc2bow(a_docs[i])\n",
    "    t = a_ldamodel.get_document_topics(bow)\n",
    "    print t"
   ]
  },
  {
   "cell_type": "markdown",
   "metadata": {},
   "source": [
    "### Some properties of NLP features"
   ]
  },
  {
   "cell_type": "markdown",
   "metadata": {},
   "source": [
    "#### verifying that scores to each doc makes sense"
   ]
  },
  {
   "cell_type": "code",
   "execution_count": 3,
   "metadata": {},
   "outputs": [
    {
     "name": "stderr",
     "output_type": "stream",
     "text": [
      "C:\\Users\\Gal\\Anaconda2\\lib\\site-packages\\gensim\\utils.py:1209: UserWarning: detected Windows; aliasing chunkize to chunkize_serial\n",
      "  warnings.warn(\"detected Windows; aliasing chunkize to chunkize_serial\")\n"
     ]
    },
    {
     "name": "stdout",
     "output_type": "stream",
     "text": [
      "76908 96962\n"
     ]
    }
   ],
   "source": [
    "from nlp_features import *\n",
    "train_df = pd.read_csv(project_dir + '/train_with_tag_clusters_and_user_scores.csv')\n",
    "accept_df = train_df [train_df ['IsAcceptedAnswer'] == True]\n",
    "reject_df = train_df [train_df ['IsAcceptedAnswer'] == False]\n",
    "\n",
    "print len(accept_df), len(reject_df)\n",
    "\n",
    "D_accept = find_correlations_in_topics(accept_df)\n",
    "D_reject = find_correlations_in_topics(reject_df)\n",
    "\n"
   ]
  },
  {
   "cell_type": "code",
   "execution_count": 24,
   "metadata": {},
   "outputs": [
    {
     "data": {
      "image/png": "[encoded data removed]",
      "text/plain": [
       "<Figure size 432x288 with 1 Axes>"
      ]
     },
     "metadata": {},
     "output_type": "display_data"
    }
   ],
   "source": [
    "# graphs in this section is a bit differnet from the one in the doc since we have changed the order of the topics a bit - basically only the order is changed \n",
    "# graph that compares topics of questions and answers in where the answer was accepted  \n",
    "im_accept = [[D_accept[(i, j)] for i in range(10)] for j in range(10)]\n",
    "plt.imshow(im_accept)\n",
    "\n",
    "plt.show()"
   ]
  },
  {
   "cell_type": "code",
   "execution_count": 25,
   "metadata": {},
   "outputs": [
    {
     "data": {
      "image/png": "[encoded data removed]",
      "text/plain": [
       "<Figure size 432x288 with 1 Axes>"
      ]
     },
     "metadata": {},
     "output_type": "display_data"
    }
   ],
   "source": [
    "# graph that compares topics of questions and answers in where the answer was rejected\n",
    "im_reject = [[D_reject[(i, j)] for i in range(10)] for j in range(10)]\n",
    "plt.imshow(im_reject)\n",
    "\n",
    "plt.show()"
   ]
  },
  {
   "cell_type": "code",
   "execution_count": 34,
   "metadata": {},
   "outputs": [
    {
     "data": {
      "image/png": "[encoded data removed]",
      "text/plain": [
       "<Figure size 432x288 with 1 Axes>"
      ]
     },
     "metadata": {},
     "output_type": "display_data"
    }
   ],
   "source": [
    "# graph that compares topics of questions and answers in where the answer in the diff - we can see that there is one spot\n",
    "# that combination of topics was much stronger in accepted answers and one in the rejected,which means, there is some\n",
    "# information in this feature - not strong as we wanted :( - more information in the document\n",
    "ratio = len(accept_df) / float(len(reject_df))\n",
    "im_dif = [[D_reject[(i, j)]*ratio - D_accept[(i, j)]for i in range(10)] for j in range(10)]\n",
    "plt.imshow(im_dif)\n",
    "\n",
    "plt.show()"
   ]
  },
  {
   "cell_type": "markdown",
   "metadata": {},
   "source": [
    "## Classification"
   ]
  },
  {
   "cell_type": "code",
   "execution_count": 5,
   "metadata": {},
   "outputs": [],
   "source": [
    "# classification imports \n",
    "from sklearn.ensemble import RandomForestClassifier\n",
    "from sklearn.linear_model import LogisticRegression\n",
    "from sklearn import svm\n",
    "\n",
    "# In the first time we tryed to classify we didn't have the time and tags features - we used those cells several times for the\n",
    "# classification testing - The NN is in different module since it requires tensorflow envionment\n",
    "train_df = pd.read_csv(project_dir + '/train_with_tag_clusters_and_user_scores.csv')\n",
    "test_df = pd.read_csv(project_dir + '/test_with_tag_clusters_and_user_scores.csv')\n",
    "\n",
    "train_df.fillna(0, inplace=True)\n",
    "test_df.fillna(0, inplace=True)"
   ]
  },
  {
   "cell_type": "code",
   "execution_count": 8,
   "metadata": {},
   "outputs": [
    {
     "name": "stdout",
     "output_type": "stream",
     "text": [
      "results of random forest:\n",
      "0.7314273425003697\n",
      "results of logistic regression:\n",
      "0.7078645644313615\n"
     ]
    }
   ],
   "source": [
    "# NN tests are in different module since we need tensorflow enviornment \n",
    "# define all features\n",
    "basic_features = ['Score_ans', 'Score_qus']\n",
    "nlp_features = ['topic_' + str(i) + \"_qus\" for i in range(10)] + ['topic_' + str(i) + \"_ans\" for i in range(10)]\n",
    "time_features = ['diff_percentile_bucket', 'hirerchy']\n",
    "tags_features = [\"cluster_\" + str(i) for i in range(50)] + [\"user_score_cluster_\" + str(i) for i in range(50)]\\\n",
    "                + [\"user_score_general\",\"total_score_user_question_by_clusters\", \"total_score_user_question_by_clusters_relative\"]\n",
    "users_features = ['neg_answers_user', 'neg_questions_user', 'number_of_answers_user', 'out_degree_user', 'question_total_score_user',\n",
    "                 'answer_total_score_user', 'closeness_centrality_user', 'in_degree_user']\n",
    "\n",
    "# after several tries we found out that NLP and tags features confuse the classifiers and they have better prediction without them \n",
    "all_features = basic_features + users_features + time_features  # +  nlp_features # + tags_features\n",
    "target = 'IsAcceptedAnswer'\n",
    "\n",
    "# training - random forest\n",
    "random_forest_clf = RandomForestClassifier(n_estimators=300, max_depth=10, random_state=0)\n",
    "random_forest_clf.fit(train_df[all_features], train_df[target].astype(int))\n",
    "results_random_forest = random_forest_clf.predict(test_df[all_features].astype(int))\n",
    "\n",
    "correct_predictions = np.sum(results_random_forest == np.array(test_df[target].astype(int)))\n",
    "\n",
    "print \"results of random forest:\"\n",
    "print (correct_predictions) / float(len(results_random_forest))\n",
    "\n",
    "# training - logistic regression\n",
    "# Iterated over parameters: pentalty {l1, l2}\n",
    "logisticRegr = LogisticRegression(max_iter=5000, class_weight='balanced', penalty='l2')\n",
    "logisticRegr.fit(train_df[all_features], train_df[target].astype(int))\n",
    "correct_predictions = np.sum(logisticRegr.predict(test_df[all_features].astype(int)) == test_df[target].astype(int))\n",
    "\n",
    "print \"results of logistic regression:\"\n",
    "print correct_predictions / float(len(test_df[target]))\n"
   ]
  },
  {
   "cell_type": "code",
   "execution_count": 11,
   "metadata": {},
   "outputs": [
    {
     "name": "stdout",
     "output_type": "stream",
     "text": [
      "Score_ans 0.23541238877919013\n",
      "Score_qus 0.045579366578782206\n",
      "neg_answers_user 0.0010445348848559792\n",
      "neg_questions_user 0.0025877259741308003\n",
      "number_of_answers_user 0.00821318150235062\n",
      "out_degree_user 0.03489633102054453\n",
      "question_total_score_user 0.011728279666331711\n",
      "answer_total_score_user 0.009709149961849092\n",
      "closeness_centrality_user 0.008730542995623446\n",
      "in_degree_user 0.008624900506589985\n",
      "diff_percentile_bucket 0.09681089138527789\n",
      "hirerchy 0.4458798058206593\n",
      "topic_0_qus 0.004957590282334831\n",
      "topic_1_qus 0.003102871132859473\n",
      "topic_2_qus 0.004643773905488897\n",
      "topic_3_qus 0.003968582841880785\n",
      "topic_4_qus 0.0034283624780066\n",
      "topic_5_qus 0.00603374509619582\n",
      "topic_6_qus 0.004184243261242693\n",
      "topic_7_qus 0.004700090907157172\n",
      "topic_8_qus 0.004403005585167345\n",
      "topic_9_qus 0.004251939065643405\n",
      "topic_0_ans 0.0074160400907871205\n",
      "topic_1_ans 0.005126388447220235\n",
      "topic_2_ans 0.005945197515262719\n",
      "topic_3_ans 0.004034423205381385\n",
      "topic_4_ans 0.0034209166856662915\n",
      "topic_5_ans 0.003328966684776959\n",
      "topic_6_ans 0.00419791433817255\n",
      "topic_7_ans 0.004161619950839189\n",
      "topic_8_ans 0.004517048923007261\n",
      "topic_9_ans 0.004960180526723473\n"
     ]
    }
   ],
   "source": [
    "# Please notice that in one of the presentations we claimed we got 75% prediction, that because we has a bug in user's featuers.\n",
    "# feature importance - include NLP features - Tags features got the lowest importances\n",
    "importances = random_forest_clf.feature_importances_\n",
    "for i in range(len(importances)):\n",
    "    print all_features[i], importances[i]"
   ]
  },
  {
   "cell_type": "code",
   "execution_count": 9,
   "metadata": {},
   "outputs": [
    {
     "name": "stdout",
     "output_type": "stream",
     "text": [
      "results of SVM:\n",
      "0.7148675349812492\n"
     ]
    }
   ],
   "source": [
    "# training - SVM - this takes a bit longer so it's in a different cell\n",
    "clf = svm.SVC()\n",
    "clf.fit(train_df[all_features], train_df[target]) \n",
    "correct_predictions = np.sum(clf.predict(test_df[all_features]) == test_df[target])\n",
    "\n",
    "print \"results of SVM:\"\n",
    "print correct_predictions / float(len(test_df[target]))"
   ]
  },
  {
   "cell_type": "code",
   "execution_count": 6,
   "metadata": {},
   "outputs": [
    {
     "name": "stdout",
     "output_type": "stream",
     "text": [
      "results of random forest:\n",
      "0.7332419317983252\n"
     ]
    }
   ],
   "source": [
    "# sadly in the end we saw that we get the same results with some of the basic features.\n",
    "basic_features = ['Score_ans', 'Score_qus']\n",
    "time_features = ['diff_percentile_bucket', 'hirerchy']\n",
    "\n",
    "important_features = time_features + basic_features\n",
    "target = 'IsAcceptedAnswer'\n",
    "\n",
    "random_forest_clf = RandomForestClassifier(n_estimators=300, max_depth=10, random_state=0)\n",
    "random_forest_clf.fit(train_df[important_features], train_df[target].astype(int))\n",
    "results_random_forest = random_forest_clf.predict(test_df[important_features].astype(int))\n",
    "\n",
    "correct_predictions = np.sum(results_random_forest == np.array(test_df[target].astype(int)))\n",
    "\n",
    "print \"results of random forest:\"\n",
    "print (correct_predictions) / float(len(results_random_forest))"
   ]
  },
  {
   "cell_type": "markdown",
   "metadata": {},
   "source": [
    "## time and hierarchy features "
   ]
  },
  {
   "cell_type": "code",
   "execution_count": 81,
   "metadata": {},
   "outputs": [
    {
     "data": {
      "image/png": "[encoded data removed]",
      "text/plain": [
       "<Figure size 432x288 with 1 Axes>"
      ]
     },
     "metadata": {},
     "output_type": "display_data"
    }
   ],
   "source": [
    "# hirerchy - strong feature, we constructed it after first basic features were not good enogh, the construction itself can\n",
    "# seen in the relevant module - here we checked the quality of the feature\n",
    "bins = np.linspace(-5, 20, 10)\n",
    "width = 0.7 * (bins[1] - bins[0])\n",
    "\n",
    "plt.hist([x for x in acc_df['hirerchy'] if x < 100], bins, alpha = 0.5, width=width, color='blue', label = 'acc')\n",
    "plt.hist([x for x in rej_df['hirerchy'] if x < 100], bins, alpha = 0.5, width=width, color='salmon', label = 'rej')\n",
    "plt.legend(loc ='upper right')\n",
    "plt.show()"
   ]
  },
  {
   "cell_type": "markdown",
   "metadata": {},
   "source": [
    "## Tagging features"
   ]
  },
  {
   "cell_type": "code",
   "execution_count": 1,
   "metadata": {},
   "outputs": [],
   "source": [
    "# Those features were constructed and checked in a different module, their check was by observing the words in each cluster\n",
    "# and making sure it makes sense. It was written in a different module sice it required a lot of preperations, here are some of the results."
   ]
  },
  {
   "cell_type": "markdown",
   "metadata": {},
   "source": [
    "## Spectral clustering of tags:\n",
    "![title](img/tagsSpectralClustering.png)"
   ]
  },
  {
   "cell_type": "code",
   "execution_count": null,
   "metadata": {},
   "outputs": [],
   "source": []
  }
 ],
 "metadata": {
  "anaconda-cloud": {},
  "kernelspec": {
   "display_name": "Python 2",
   "language": "python",
   "name": "python2"
  },
  "language_info": {
   "codemirror_mode": {
    "name": "ipython",
    "version": 2
   },
   "file_extension": ".py",
   "mimetype": "text/x-python",
   "name": "python",
   "nbconvert_exporter": "python",
   "pygments_lexer": "ipython2",
   "version": "2.7.15"
  }
 },
 "nbformat": 4,
 "nbformat_minor": 1
}
