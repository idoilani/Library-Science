{
 "cells": [
  {
   "cell_type": "markdown",
   "metadata": {},
   "source": [
    "# Ground Instances notebook"
   ]
  },
  {
   "cell_type": "code",
   "execution_count": 1,
   "metadata": {
    "collapsed": false
   },
   "outputs": [],
   "source": [
    "import numpy as np\n",
    "import pandas as pd\n",
    "import networkx as nx\n",
    "%matplotlib inline\n",
    "import matplotlib.pyplot as plt\n",
    "import pickle\n",
    "from tqdm import tqdm\n",
    "import sys\n",
    "sys.path.append(\"C:/Users/Gal/PycharmProjects/GroundInstances/\")\n",
    "from create_user_profile import *\n",
    "from clean_data import *"
   ]
  },
  {
   "cell_type": "markdown",
   "metadata": {},
   "source": [
    "Load data"
   ]
  },
  {
   "cell_type": "code",
   "execution_count": 2,
   "metadata": {
    "collapsed": false
   },
   "outputs": [],
   "source": [
    "project_dir = '/Users/Gal/Downloads/rquestions'\n",
    "ans = pd.read_csv(project_dir + '/Answers.csv')\n",
    "qus = pd.read_csv(project_dir + '/Questions.csv')\n",
    "tags = pd.read_csv(project_dir + '/Tags.csv')\n",
    "\n",
    "clean_data(project_dir + '/Answers.csv', project_dir + '/Clean_Answers.csv')\n",
    "clean_data(project_dir + '/Questions.csv', project_dir + '/Clean_Questions.csv')\n",
    "clean_data(project_dir + '/Tags.csv', project_dir + '/Clean_Tags.csv')\n",
    "\n",
    "ans = pd.read_csv(project_dir + '/Clean_Answers.csv')\n",
    "qus = pd.read_csv( project_dir + '/Clean_Questions.csv')\n",
    "tags = pd.read_csv( project_dir + '/Clean_Tags.csv')"
   ]
  },
  {
   "cell_type": "code",
   "execution_count": null,
   "metadata": {
    "collapsed": false
   },
   "outputs": [],
   "source": [
    "ans.head()"
   ]
  },
  {
   "cell_type": "code",
   "execution_count": null,
   "metadata": {
    "collapsed": false
   },
   "outputs": [],
   "source": [
    "qus.head()"
   ]
  },
  {
   "cell_type": "code",
   "execution_count": null,
   "metadata": {
    "collapsed": false
   },
   "outputs": [],
   "source": [
    "tags.head()"
   ]
  },
  {
   "cell_type": "markdown",
   "metadata": {},
   "source": [
    "# creating users list"
   ]
  },
  {
   "cell_type": "code",
   "execution_count": null,
   "metadata": {
    "collapsed": false
   },
   "outputs": [],
   "source": [
    "import create_user_profile\n",
    "users = list_of_users(qus, ans)\n",
    "users.create_user_graph()\n",
    "users.set_node_properties()\n",
    "users.set_user_scores(ans, qus)"
   ]
  },
  {
   "cell_type": "code",
   "execution_count": null,
   "metadata": {
    "collapsed": false
   },
   "outputs": [],
   "source": [
    "#saving the objects\n",
    "user_df = users.generate_data_frame(\"C:\\Users\\Gal\\Documents\\Library-Science\\user_dataframe.csv\")\n",
    "users.save_obj(\"C:\\Users\\Gal\\Documents\\Library-Science\\user_list.pkl\")"
   ]
  },
  {
   "cell_type": "code",
   "execution_count": null,
   "metadata": {
    "collapsed": false
   },
   "outputs": [],
   "source": [
    "#loading objects\n",
    "user_df = pd.read_csv('C:\\Users\\Gal\\Documents\\Library-Science\\user_dataframe.csv')\n",
    "user_df.head()"
   ]
  },
  {
   "cell_type": "code",
   "execution_count": null,
   "metadata": {
    "collapsed": false
   },
   "outputs": [],
   "source": [
    "user_df[user_df['neg_questions'] > 0]"
   ]
  },
  {
   "cell_type": "markdown",
   "metadata": {},
   "source": [
    "# Graph analysis"
   ]
  },
  {
   "cell_type": "code",
   "execution_count": null,
   "metadata": {
    "collapsed": false
   },
   "outputs": [],
   "source": [
    "G = list_of_users.load_obj('C:/Users/Gal/Documents/Library-Science/user_list.pkl')"
   ]
  },
  {
   "cell_type": "code",
   "execution_count": null,
   "metadata": {
    "collapsed": false
   },
   "outputs": [],
   "source": [
    "print len(list(nx.weakly_connected_component_subgraphs(G.graph))), G.graph.number_of_edges(), G.graph.number_of_nodes()\n",
    "sub_graphs = list(nx.weakly_connected_component_subgraphs(G.graph))"
   ]
  },
  {
   "cell_type": "code",
   "execution_count": null,
   "metadata": {
    "collapsed": false
   },
   "outputs": [],
   "source": [
    "sorted([len(x) for x in sub_graphs])[-10:]"
   ]
  },
  {
   "cell_type": "code",
   "execution_count": null,
   "metadata": {
    "collapsed": false
   },
   "outputs": [],
   "source": [
    "g = [x for x in sub_graphs if len(x) == 11462][0]\n",
    "nx.closeness_centrality(g)\n",
    "nx.closeness_centrality(g)"
   ]
  },
  {
   "cell_type": "code",
   "execution_count": null,
   "metadata": {
    "collapsed": false
   },
   "outputs": [],
   "source": [
    "nx.draw(users.graph)"
   ]
  },
  {
   "cell_type": "markdown",
   "metadata": {
    "collapsed": true
   },
   "source": [
    "# Train/Test table "
   ]
  },
  {
   "cell_type": "code",
   "execution_count": null,
   "metadata": {
    "collapsed": false
   },
   "outputs": [],
   "source": [
    "from sklearn.model_selection import train_test_split\n",
    "from sklearn.ensemble import RandomForestClassifier\n",
    "from sklearn.linear_model import LogisticRegression\n",
    "\n",
    "final_df = ans.merge(user_df, left_on=\"OwnerUserId\", right_on=\"id\")\n",
    "final_df = final_df.merge(qus, left_on=\"ParentId\", right_on=\"Id\", suffixes=(\"_Ans\", \"_Qus\"), how=\"left\")\n",
    "\n",
    "final_df.IsAcceptedAnswer = final_df.IsAcceptedAnswer.astype(int)\n",
    "\n",
    "final_df.dropna(inplace=True)\n",
    "train, test = train_test_split(final_df, test_size=0.2)\n",
    "len(train.columns), len(test.columns)"
   ]
  },
  {
   "cell_type": "code",
   "execution_count": null,
   "metadata": {
    "collapsed": false
   },
   "outputs": [],
   "source": [
    "final_df.head(40)"
   ]
  },
  {
   "cell_type": "code",
   "execution_count": null,
   "metadata": {
    "collapsed": false
   },
   "outputs": [],
   "source": [
    "# training - random forest\n",
    "random_forest_clf = RandomForestClassifier(n_estimators=100, max_depth=5, random_state=0)\n",
    "features_for_training = ['Score_Qus', 'Score_Ans', 'closeness_centrality', 'in_degree', 'neg_answers', 'neg_questions', 'number_of_answers', 'out_degree', 'question_total_score']\n",
    "random_forest_clf.fit(train[features_for_training], train['IsAcceptedAnswer'])\n",
    "\n",
    "# training - logistic regression\n",
    "logisticRegr = LogisticRegression(max_iter=1000, class_weight='balanced')\n",
    "logisticRegr.fit(train[features_for_training], train['IsAcceptedAnswer'])\n",
    "results = logisticRegr.predict(test[features_for_training]) - test['IsAcceptedAnswer'] \n",
    "\n",
    "#predicting\n",
    "'''\n",
    "results = random_forest_clf.predict(test[features_for_training])\n",
    "results -= test['IsAcceptedAnswer'] \n",
    "features_for_training = ['Score']\n",
    "logisticRegr.fit(train[features_for_training], train['IsAcceptedAnswer'])\n",
    "results = logisticRegr.predict(test[features_for_training]) - test['IsAcceptedAnswer'] \n",
    "'''\n",
    "np.count_nonzero(results) / float(len(results))\n"
   ]
  },
  {
   "cell_type": "code",
   "execution_count": null,
   "metadata": {
    "collapsed": false
   },
   "outputs": [],
   "source": [
    "final_df.head()"
   ]
  },
  {
   "cell_type": "code",
   "execution_count": null,
   "metadata": {
    "collapsed": false
   },
   "outputs": [],
   "source": [
    "np.count_nonzero(ans[\"IsAcceptedAnswer\"]) / float(len(ans))"
   ]
  },
  {
   "cell_type": "code",
   "execution_count": null,
   "metadata": {
    "collapsed": false
   },
   "outputs": [],
   "source": [
    "import collections\n",
    "c = collections.Counter(tags[\"Id\"])\n",
    "c"
   ]
  },
  {
   "cell_type": "markdown",
   "metadata": {},
   "source": [
    "# Ans score - IsAccepted graph"
   ]
  },
  {
   "cell_type": "code",
   "execution_count": null,
   "metadata": {
    "collapsed": false
   },
   "outputs": [],
   "source": [
    "%matplotlib inline\n",
    "F = [x for x in ans[ans['IsAcceptedAnswer'] == False]['Score'] if x > -10 or x<50]\n",
    "T = [x for x in ans[ans['IsAcceptedAnswer'] == True]['Score'] if x > -10 or x<50]\n",
    "bins = np.linspace(-10, 20, 30)\n",
    "\n",
    "plt.hist(F, bins, alpha=0.5, label='Not accepted')\n",
    "plt.hist(T, bins, alpha=0.5, label='Accepted', weights=[len(T)/float(len(F))]*len(T))\n",
    "\n",
    "plt.legend(loc='upper right')\n",
    "plt.xlabel('score')\n",
    "plt.ylabel('# samples')\n",
    "\n",
    "plt.show()"
   ]
  },
  {
   "cell_type": "code",
   "execution_count": null,
   "metadata": {
    "collapsed": false
   },
   "outputs": [],
   "source": [
    "len(ans), len(qus)"
   ]
  },
  {
   "cell_type": "code",
   "execution_count": null,
   "metadata": {
    "collapsed": false
   },
   "outputs": [],
   "source": [
    "T.head()"
   ]
  },
  {
   "cell_type": "code",
   "execution_count": null,
   "metadata": {
    "collapsed": false
   },
   "outputs": [],
   "source": [
    "ans[ans['IsAcceptedAnswer'] == False]['ParentId'].nunique(), len(ans[ans['IsAcceptedAnswer'] == False]['ParentId'])"
   ]
  },
  {
   "cell_type": "code",
   "execution_count": 3,
   "metadata": {
    "collapsed": false
   },
   "outputs": [
    {
     "name": "stdout",
     "output_type": "stream",
     "text": [
      "set([u'all', u'just', u'being', u'over', u'both', u'through', u'yourselves', u'its', u'before', u'o', u'hadn', u'herself', u'll', u'had', u'should', u'to', u'only', u'won', u'under', u'ours', u'has', u'do', u'them', u'his', u'very', u'they', u'not', u'during', u'now', u'him', u'nor', u'd', u'did', u'didn', u'this', u'she', u'each', u'further', u'where', u'few', u'because', u'doing', u'some', u'hasn', u'are', u'our', u'ourselves', u'out', u'what', u'for', u'while', u're', u'does', u'above', u'between', u'mustn', u't', u'be', u'we', u'who', u'were', u'here', u'shouldn', u'hers', u'by', u'on', u'about', u'couldn', u'of', u'against', u's', u'isn', u'or', u'own', u'into', u'yourself', u'down', u'mightn', u'wasn', u'your', u'from', u'her', u'their', u'aren', u'there', u'been', u'whom', u'too', u'wouldn', u'themselves', u'weren', u'was', u'until', u'more', u'himself', u'that', u'but', u'don', u'with', u'than', u'those', u'he', u'me', u'myself', u'ma', u'these', u'up', u'will', u'below', u'ain', u'can', u'theirs', u'my', u'and', u've', u'then', u'is', u'am', u'it', u'doesn', u'an', u'as', u'itself', u'at', u'have', u'in', u'any', u'if', u'again', u'no', u'when', u'same', u'how', u'other', u'which', u'you', u'shan', u'needn', u'haven', u'after', u'most', u'such', u'why', u'a', u'off', u'i', u'm', u'yours', u'so', u'y', u'the', u'having', u'once'])\n"
     ]
    }
   ],
   "source": [
    "import nltk\n",
    "from nltk.corpus import stopwords\n",
    "stopWords = set(stopwords.words('english'))\n",
    "print stopWords"
   ]
  },
  {
   "cell_type": "code",
   "execution_count": 7,
   "metadata": {
    "collapsed": false
   },
   "outputs": [
    {
     "data": {
      "text/html": [
       "<div>\n",
       "<style>\n",
       "    .dataframe thead tr:only-child th {\n",
       "        text-align: right;\n",
       "    }\n",
       "\n",
       "    .dataframe thead th {\n",
       "        text-align: left;\n",
       "    }\n",
       "\n",
       "    .dataframe tbody tr th {\n",
       "        vertical-align: top;\n",
       "    }\n",
       "</style>\n",
       "<table border=\"1\" class=\"dataframe\">\n",
       "  <thead>\n",
       "    <tr style=\"text-align: right;\">\n",
       "      <th></th>\n",
       "      <th>Unnamed: 0</th>\n",
       "      <th>Unnamed: 0.1</th>\n",
       "      <th>Id</th>\n",
       "      <th>OwnerUserId</th>\n",
       "      <th>CreationDate</th>\n",
       "      <th>ParentId</th>\n",
       "      <th>Score</th>\n",
       "      <th>IsAcceptedAnswer</th>\n",
       "      <th>Body</th>\n",
       "      <th>clean_body</th>\n",
       "    </tr>\n",
       "  </thead>\n",
       "  <tbody>\n",
       "    <tr>\n",
       "      <th>0</th>\n",
       "      <td>0</td>\n",
       "      <td>0</td>\n",
       "      <td>79741</td>\n",
       "      <td>3259.0</td>\n",
       "      <td>2008-09-17T03:43:22Z</td>\n",
       "      <td>79709</td>\n",
       "      <td>-1</td>\n",
       "      <td>False</td>\n",
       "      <td>&lt;p&gt;It's tough to say definitively without know...</td>\n",
       "      <td>tough say definitively without knowing languag...</td>\n",
       "    </tr>\n",
       "    <tr>\n",
       "      <th>1</th>\n",
       "      <td>1</td>\n",
       "      <td>1</td>\n",
       "      <td>79768</td>\n",
       "      <td>6043.0</td>\n",
       "      <td>2008-09-17T03:48:29Z</td>\n",
       "      <td>79709</td>\n",
       "      <td>9</td>\n",
       "      <td>False</td>\n",
       "      <td>&lt;p&gt;use variables in the outer function instead...</td>\n",
       "      <td>variables outer function instead global gets b...</td>\n",
       "    </tr>\n",
       "    <tr>\n",
       "      <th>2</th>\n",
       "      <td>2</td>\n",
       "      <td>2</td>\n",
       "      <td>79779</td>\n",
       "      <td>8002.0</td>\n",
       "      <td>2008-09-17T03:49:36Z</td>\n",
       "      <td>79709</td>\n",
       "      <td>0</td>\n",
       "      <td>False</td>\n",
       "      <td>&lt;p&gt;Third approach: inner function returns a re...</td>\n",
       "      <td>inner function returns reference large next st...</td>\n",
       "    </tr>\n",
       "    <tr>\n",
       "      <th>3</th>\n",
       "      <td>3</td>\n",
       "      <td>4</td>\n",
       "      <td>79827</td>\n",
       "      <td>14257.0</td>\n",
       "      <td>2008-09-17T03:58:26Z</td>\n",
       "      <td>79709</td>\n",
       "      <td>1</td>\n",
       "      <td>False</td>\n",
       "      <td>&lt;p&gt;I'm not sure I understand the question, but...</td>\n",
       "      <td>sure understand couple create list vectors ret...</td>\n",
       "    </tr>\n",
       "    <tr>\n",
       "      <th>4</th>\n",
       "      <td>4</td>\n",
       "      <td>5</td>\n",
       "      <td>79893</td>\n",
       "      <td>14928.0</td>\n",
       "      <td>2008-09-17T04:11:08Z</td>\n",
       "      <td>79709</td>\n",
       "      <td>6</td>\n",
       "      <td>False</td>\n",
       "      <td>&lt;p&gt;Remember your Knuth.  \"Premature optimizati...</td>\n",
       "      <td>optimization root programming side effect free...</td>\n",
       "    </tr>\n",
       "  </tbody>\n",
       "</table>\n",
       "</div>"
      ],
      "text/plain": [
       "   Unnamed: 0  Unnamed: 0.1     Id  OwnerUserId          CreationDate  \\\n",
       "0           0             0  79741       3259.0  2008-09-17T03:43:22Z   \n",
       "1           1             1  79768       6043.0  2008-09-17T03:48:29Z   \n",
       "2           2             2  79779       8002.0  2008-09-17T03:49:36Z   \n",
       "3           3             4  79827      14257.0  2008-09-17T03:58:26Z   \n",
       "4           4             5  79893      14928.0  2008-09-17T04:11:08Z   \n",
       "\n",
       "   ParentId  Score  IsAcceptedAnswer  \\\n",
       "0     79709     -1             False   \n",
       "1     79709      9             False   \n",
       "2     79709      0             False   \n",
       "3     79709      1             False   \n",
       "4     79709      6             False   \n",
       "\n",
       "                                                Body  \\\n",
       "0  <p>It's tough to say definitively without know...   \n",
       "1  <p>use variables in the outer function instead...   \n",
       "2  <p>Third approach: inner function returns a re...   \n",
       "3  <p>I'm not sure I understand the question, but...   \n",
       "4  <p>Remember your Knuth.  \"Premature optimizati...   \n",
       "\n",
       "                                          clean_body  \n",
       "0  tough say definitively without knowing languag...  \n",
       "1  variables outer function instead global gets b...  \n",
       "2  inner function returns reference large next st...  \n",
       "3  sure understand couple create list vectors ret...  \n",
       "4  optimization root programming side effect free...  "
      ]
     },
     "execution_count": 7,
     "metadata": {},
     "output_type": "execute_result"
    }
   ],
   "source": [
    "import gensim\n",
    "Lda = gensim.models.ldamodel.LdaModel\n",
    "from gensim import corpora\n",
    "\n",
    "qus_df = pd.read_csv('C:\\\\Users\\\\Gal\\\\Documents\\\\Library-Science\\\\clean_question_df.csv')\n",
    "ans_df = pd.read_csv('C:\\\\Users\\\\Gal\\\\Documents\\\\Library-Science\\\\clean_answers_df.csv')\n",
    "\n",
    "qus_df.head()\n",
    "ans_df.head()\n"
   ]
  },
  {
   "cell_type": "code",
   "execution_count": 8,
   "metadata": {
    "collapsed": false
   },
   "outputs": [
    {
     "name": "stdout",
     "output_type": "stream",
     "text": [
      "building a model for questions\n",
      "building a model for answers\n"
     ]
    }
   ],
   "source": [
    "import NLP\n",
    "q_docs = qus_df['clean_body']\n",
    "a_docs = ans_df['clean_body']\n",
    "\n",
    "q_docs = [x.split(\" \") for x in q_docs if type(x)!=float]\n",
    "a_docs = [x.split(\" \") for x in a_docs if type(x)!=float]\n",
    "\n",
    "q_dictionary = corpora.Dictionary(q_docs)\n",
    "q_doc_term_matrix = [q_dictionary.doc2bow(doc) for doc in q_docs]\n",
    "\n",
    "a_dictionary = corpora.Dictionary(a_docs)\n",
    "a_doc_term_matrix = [a_dictionary.doc2bow(doc) for doc in a_docs]\n",
    "\n",
    "Lda = gensim.models.ldamodel.LdaModel\n",
    "\n",
    "print \"building a model for questions\"\n",
    "q_ldamodel = Lda(q_doc_term_matrix, num_topics=10, id2word=dictionary, passes=50)\n",
    "q_ldamodel.save(\"my_lda_model_qus_10_topics\")\n",
    "\n",
    "print \"building a model for answers\"\n",
    "a_ldamodel = Lda(a_doc_term_matrix, num_topics=10, id2word=dictionary, passes=50)\n",
    "a_ldamodel.save(\"my_lda_model_ans_10_topics\")"
   ]
  },
  {
   "cell_type": "code",
   "execution_count": 10,
   "metadata": {
    "collapsed": false
   },
   "outputs": [
    {
     "name": "stdout",
     "output_type": "stream",
     "text": [
      "(0, u'0.030*\"ala\" + 0.025*\"search\" + 0.017*\"repository\" + 0.014*\"colleague\" + 0.013*\"easier\" + 0.012*\"indicating\" + 0.011*\"take\" + 0.011*\"type\" + 0.011*\"efficient\" + 0.011*\"part\" + 0.010*\"found\" + 0.010*\"matrix\" + 0.010*\"unique\" + 0.009*\"last\" + 0.009*\"engine\" + 0.009*\"dendrogram</a>\" + 0.008*\"leaving\" + 0.008*\"h\" + 0.008*\"proving\" + 0.007*\"tried\"')\n",
      "(1, u'0.053*\"thus\" + 0.026*\"unlike\" + 0.015*\"come\" + 0.015*\"efficient\" + 0.009*\"practice\" + 0.009*\"leaving\" + 0.008*\"t[i]\" + 0.007*\"last\" + 0.007*\"125\" + 0.007*\"listed\" + 0.007*\"accessed\" + 0.006*\"example</a>\" + 0.006*\"hacked\" + 0.006*\"perform\" + 0.006*\"cbr\" + 0.006*\"apparently\" + 0.005*\"comfortable\" + 0.005*\"application\" + 0.005*\"everybody\\'s\" + 0.005*\"4611\"')\n",
      "(2, u'0.016*\"last\" + 0.016*\"search\" + 0.012*\"doctors\" + 0.012*\"submit\" + 0.011*\"easier\" + 0.010*\"folders\" + 0.009*\"confused\" + 0.009*\"tried\" + 0.008*\"elements\" + 0.008*\"matrix\" + 0.008*\"prior\" + 0.007*\"unique\" + 0.006*\"function\" + 0.006*\"quantile\" + 0.006*\"access\" + 0.006*\"iterating\" + 0.006*\"calculation\" + 0.006*\"looking\" + 0.006*\"take\" + 0.006*\"\\'vectorize\\'\"')\n",
      "(3, u'0.174*\"notation\" + 0.018*\"5281052\" + 0.015*\"practice\" + 0.015*\"23/12/1983\" + 0.014*\"example</a>\" + 0.014*\"makes\" + 0.013*\"hacked\" + 0.013*\"willing\" + 0.009*\"clear\" + 0.008*\"pages\" + 0.007*\"mode\" + 0.006*\"55\" + 0.006*\"we\\'re\" + 0.006*\"<em>rsruby</em>\" + 0.006*\"h\\xc3\\xa6storp\" + 0.005*\"imod\" + 0.005*\"go\" + 0.005*\"xcopy\" + 0.005*\"<em>see</em>\" + 0.005*\"product\"')\n",
      "(4, u'0.152*\"deviates\" + 0.086*\"ending\" + 0.053*\"called\" + 0.027*\"implemented\" + 0.016*\"middle\" + 0.015*\"shape\" + 0.014*\"inexperience\" + 0.012*\"603\" + 0.011*\"tries\" + 0.010*\"lastvalue\" + 0.010*\"advised\" + 0.009*\"particularly\" + 0.008*\"practice\" + 0.008*\"o\\'reilly\" + 0.007*\"prepend\" + 0.007*\"salt\" + 0.006*\"sworn\" + 0.006*\"previously\" + 0.005*\"charting\" + 0.004*\"program\"')\n",
      "(5, u'0.181*\"actually\" + 0.112*\"ms\" + 0.103*\"edges\" + 0.074*\"datasets\" + 0.056*\"neighboring\" + 0.042*\"deal\" + 0.032*\"county\" + 0.022*\"entries\" + 0.022*\"compute\" + 0.018*\"product\" + 0.017*\"minute\" + 0.009*\"character\" + 0.009*\"@leoniedu\" + 0.006*\"ignore\" + 0.006*\"java\" + 0.006*\"rises\" + 0.006*\"practice\" + 0.006*\"inline\" + 0.006*\"generating\" + 0.004*\"operators\"')\n",
      "(6, u'0.062*\"ignored\" + 0.030*\"treatments\" + 0.015*\"ala\" + 0.010*\"<strong>plyr</strong>\" + 0.009*\"bulk\" + 0.009*\"frames\" + 0.008*\"idioma\" + 0.008*\"supporting\" + 0.007*\"produces\" + 0.006*\"available\" + 0.006*\"loadings\" + 0.006*\"involves\" + 0.005*\"takes\" + 0.005*\"naba3\" + 0.005*\"directed\" + 0.005*\"australian\" + 0.004*\"initial\" + 0.004*\"united\" + 0.004*\"en\" + 0.004*\"resembles\"')\n",
      "(7, u'0.045*\"court\" + 0.043*\"<em>even\" + 0.025*\"real\" + 0.015*\"expecting\" + 0.013*\"practice\" + 0.013*\"wouldn\\'t\" + 0.012*\"way\" + 0.012*\"extra\" + 0.012*\"piece\" + 0.012*\"im\" + 0.012*\"ala\" + 0.010*\"mydataframe$mydata\" + 0.010*\"search\" + 0.009*\"33\" + 0.008*\"easier\" + 0.008*\"colors\" + 0.008*\"unpacking\" + 0.007*\"subfolders\" + 0.007*\"aggregate\" + 0.007*\"31\"')\n",
      "(8, u'0.030*\"modify\" + 0.029*\"value/count\" + 0.028*\"confused\" + 0.028*\"send\" + 0.016*\"thinking\" + 0.013*\"pressing\" + 0.011*\"view</a>\" + 0.011*\"tool\" + 0.010*\"runs\" + 0.007*\"easier\" + 0.007*\"anywhere\" + 0.006*\"scatterplots\" + 0.006*\"improved\" + 0.006*\"specifies\" + 0.006*\"existing\" + 0.006*\"limits\" + 0.005*\"local\" + 0.005*\"logging\" + 0.005*\"mal_rna_14_rrna\" + 0.005*\"recover\"')\n",
      "(9, u'0.038*\"trees\" + 0.019*\"tall\" + 0.012*\"program\" + 0.010*\"hayes\" + 0.010*\"interested\" + 0.010*\"library\" + 0.009*\"time*group\" + 0.008*\"collection\" + 0.008*\"thanks\" + 0.007*\"participant_id\" + 0.007*\"causing\" + 0.007*\"setting\" + 0.006*\"returns\" + 0.006*\"needs\" + 0.006*\"9/8/2012\" + 0.006*\"database\" + 0.005*\"create\" + 0.005*\"commercial\" + 0.005*\"spplot\" + 0.005*\"water\"')\n"
     ]
    }
   ],
   "source": [
    "for x in a_ldamodel.print_topics(num_topics=10, num_words=20):\n",
    "    print x"
   ]
  },
  {
   "cell_type": "code",
   "execution_count": 9,
   "metadata": {
    "collapsed": false
   },
   "outputs": [
    {
     "name": "stdout",
     "output_type": "stream",
     "text": [
      "<type 'list'>\n",
      "[(0, 0.12312915), (2, 0.33368683), (3, 0.19199309), (7, 0.14259973), (8, 0.18358934)]\n",
      "[(0, 0.15770732), (1, 0.15363471), (2, 0.31442869), (3, 0.13680445), (7, 0.068488061), (9, 0.14893441)]\n",
      "[(0, 0.20118041), (1, 0.1698007), (2, 0.24633662), (7, 0.15384947), (8, 0.09606643), (9, 0.11609899)]\n",
      "[(0, 0.065525457), (1, 0.15235695), (2, 0.44759434), (7, 0.16310585), (8, 0.048088197), (9, 0.11563668)]\n",
      "[(0, 0.14262626), (1, 0.15024574), (2, 0.37469843), (4, 0.058581553), (7, 0.13608751), (9, 0.11775806)]\n",
      "[(0, 0.15665424), (2, 0.42993912), (3, 0.19113472), (4, 0.077682815), (6, 0.11827157)]\n",
      "[(0, 0.16407874), (1, 0.15714538), (2, 0.57876742), (3, 0.014285714), (4, 0.014285714), (5, 0.014285714), (6, 0.014285714), (7, 0.014286349), (8, 0.014285935), (9, 0.014293291)]\n",
      "[(1, 0.088629931), (2, 0.62462968), (3, 0.033957403), (4, 0.018670117), (7, 0.019739993), (8, 0.15925552), (9, 0.050769195)]\n",
      "[(0, 0.02000102), (1, 0.020003537), (2, 0.23594579), (3, 0.33605123), (4, 0.020002719), (5, 0.020001046), (6, 0.02000414), (7, 0.28798458), (8, 0.020002222), (9, 0.020003734)]\n",
      "[(2, 0.45572183), (6, 0.058982577), (7, 0.084817022), (8, 0.30635774), (9, 0.064705685)]\n",
      "[(0, 0.15525842), (1, 0.11350091), (2, 0.62280661), (3, 0.032001451), (7, 0.027131237), (8, 0.041300505)]\n",
      "[(0, 0.025000397), (1, 0.025), (2, 0.52499855), (3, 0.025), (4, 0.025), (5, 0.02500003), (6, 0.025), (7, 0.025000244), (8, 0.27500078), (9, 0.025)]\n",
      "[(2, 0.16933659), (3, 0.1201591), (6, 0.28236791), (8, 0.28738779), (9, 0.095288157)]\n",
      "[(0, 0.091281928), (1, 0.11204509), (2, 0.37911791), (3, 0.067431994), (4, 0.032525484), (5, 0.02976637), (6, 0.0493581), (7, 0.079772882), (8, 0.074494176), (9, 0.084206015)]\n",
      "[(0, 0.41015568), (1, 0.088885084), (2, 0.34667039), (6, 0.057522383), (8, 0.032170173), (9, 0.054839961)]\n",
      "[(0, 0.1304737), (2, 0.35045576), (3, 0.088907763), (6, 0.12911485), (7, 0.060909577), (8, 0.13655214), (9, 0.096085817)]\n",
      "[(0, 0.17450577), (1, 0.039372191), (2, 0.29088995), (3, 0.15610568), (5, 0.13581534), (8, 0.13867457), (9, 0.056943178)]\n",
      "[(0, 0.12140428), (2, 0.44389713), (8, 0.1626299), (9, 0.23872998)]\n",
      "[(0, 0.22030641), (2, 0.36471891), (4, 0.119496), (7, 0.12957463), (8, 0.12044545)]\n",
      "[(0, 0.020000864), (1, 0.02), (2, 0.61656392), (3, 0.020002794), (4, 0.02), (5, 0.02), (6, 0.02), (7, 0.22343245), (8, 0.02), (9, 0.02)]\n",
      "[(0, 0.2262626), (2, 0.40219304), (3, 0.041486565), (4, 0.037005235), (5, 0.067458339), (6, 0.078291625), (8, 0.10433551), (9, 0.03671442)]\n",
      "[(0, 0.19539037), (2, 0.73187804)]\n",
      "[(2, 0.67588794), (6, 0.12256245), (8, 0.099053003), (9, 0.06915769)]\n",
      "[(0, 0.1341359), (2, 0.50499016), (3, 0.1422534), (7, 0.064385183), (8, 0.061903417), (9, 0.074148148)]\n",
      "[(0, 0.25117439), (1, 0.092026539), (2, 0.35134307), (4, 0.022491101), (6, 0.025695195), (7, 0.033113632), (8, 0.072817914), (9, 0.14788945)]\n",
      "[(2, 0.55393666), (7, 0.098684736), (8, 0.22594857), (9, 0.078571595)]\n",
      "[(0, 0.11534055), (2, 0.54214704), (3, 0.13219467), (4, 0.082439445), (5, 0.04834827), (8, 0.037980061), (9, 0.035026044)]\n",
      "[(0, 0.35870424), (1, 0.071712337), (2, 0.38460723), (6, 0.064287864), (7, 0.09290842)]\n",
      "[(0, 0.62584186), (1, 0.011115942), (2, 0.28523862), (3, 0.011115025), (4, 0.01111488), (5, 0.011112569), (6, 0.011116789), (7, 0.01111393), (8, 0.011114164), (9, 0.011116269)]\n",
      "[(0, 0.085801564), (1, 0.071562044), (2, 0.46616581), (4, 0.029960515), (6, 0.035494152), (7, 0.078483336), (8, 0.1547444), (9, 0.067671426)]\n",
      "[(0, 0.13407601), (1, 0.077662572), (2, 0.42964536), (4, 0.02150975), (5, 0.038923658), (6, 0.023165559), (7, 0.066243514), (8, 0.13260844), (9, 0.074410714)]\n",
      "[(0, 0.22811283), (2, 0.59855026), (4, 0.045833431), (5, 0.046259828), (8, 0.060409132)]\n",
      "[(0, 0.26560077), (1, 0.23887822), (2, 0.33076617), (4, 0.078246042), (8, 0.063779071)]\n",
      "[(0, 0.10479218), (1, 0.30860704), (2, 0.33840409), (3, 0.076033294), (5, 0.068138927), (9, 0.080491237)]\n",
      "[(0, 0.045944948), (1, 0.1701294), (2, 0.51280278), (4, 0.055967167), (5, 0.054502286), (7, 0.036762677), (8, 0.090556197), (9, 0.028205415)]\n",
      "[(0, 0.21881334), (1, 0.016895346), (2, 0.60020256), (4, 0.028481901), (6, 0.016007736), (7, 0.029673779), (9, 0.086221181)]\n",
      "[(0, 0.13024065), (1, 0.1124583), (2, 0.58730048), (3, 0.010000001), (4, 0.010000001), (5, 0.010000001), (6, 0.010000001), (7, 0.11000051), (8, 0.010000105), (9, 0.010000001)]\n",
      "[(2, 0.61135888), (3, 0.17986132), (9, 0.15043563)]\n",
      "[(0, 0.71138763), (1, 0.014288283), (2, 0.014297629), (3, 0.01428601), (4, 0.014285778), (5, 0.014285828), (6, 0.014285714), (7, 0.174311), (8, 0.014286421), (9, 0.014285714)]\n",
      "[(0, 0.21682733), (1, 0.09928146), (2, 0.17502557), (4, 0.036038473), (7, 0.19771782), (8, 0.1537585), (9, 0.11522697)]\n"
     ]
    }
   ],
   "source": [
    "print type(a_docs[0])\n",
    "for i in range(40):\n",
    "    bow = dictionary.doc2bow(a_docs[i])\n",
    "    t = a_ldamodel.get_document_topics(bow)\n",
    "    print t"
   ]
  },
  {
   "cell_type": "code",
   "execution_count": null,
   "metadata": {
    "collapsed": true
   },
   "outputs": [],
   "source": []
  }
 ],
 "metadata": {
  "anaconda-cloud": {},
  "kernelspec": {
   "display_name": "Python [conda root]",
   "language": "python",
   "name": "conda-root-py"
  },
  "language_info": {
   "codemirror_mode": {
    "name": "ipython",
    "version": 2
   },
   "file_extension": ".py",
   "mimetype": "text/x-python",
   "name": "python",
   "nbconvert_exporter": "python",
   "pygments_lexer": "ipython2",
   "version": "2.7.12"
  }
 },
 "nbformat": 4,
 "nbformat_minor": 1
}
